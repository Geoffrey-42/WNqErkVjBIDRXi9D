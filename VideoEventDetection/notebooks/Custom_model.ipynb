{
 "cells": [
  {
   "cell_type": "markdown",
   "id": "cafa71fb",
   "metadata": {},
   "source": [
    "Import packages"
   ]
  },
  {
   "cell_type": "code",
   "execution_count": 1,
   "id": "33d7fc73",
   "metadata": {},
   "outputs": [],
   "source": [
    "import tensorflow as tf\n",
    "from tensorflow.keras import layers as tfl\n",
    "from tensorflow.keras.utils import image_dataset_from_directory\n",
    "from tensorflow.keras.initializers import glorot_uniform\n",
    "from keras import backend as K\n",
    "import matplotlib.pyplot as plt\n",
    "import os\n",
    "cwd = os.getcwd()\n",
    "directory = cwd.replace(\"\\\\\", \"/\")[:-9]"
   ]
  },
  {
   "cell_type": "markdown",
   "id": "3407949c",
   "metadata": {},
   "source": [
    "Define f1_score"
   ]
  },
  {
   "cell_type": "code",
   "execution_count": 2,
   "id": "ca4a468e",
   "metadata": {},
   "outputs": [],
   "source": [
    "def f1_score(y_true, y_pred):\n",
    "    true_positives = K.sum(K.round(K.clip(y_true * y_pred, 0, 1)))\n",
    "    possible_positives = K.sum(K.round(K.clip(y_true, 0, 1)))\n",
    "    predicted_positives = K.sum(K.round(K.clip(y_pred, 0, 1)))\n",
    "    precision = true_positives / (predicted_positives + K.epsilon())\n",
    "    recall = true_positives / (possible_positives + K.epsilon())\n",
    "    f1_val = 2*(precision*recall)/(precision+recall+K.epsilon())\n",
    "    return f1_val"
   ]
  },
  {
   "cell_type": "markdown",
   "id": "093f9f23",
   "metadata": {},
   "source": [
    "Prefetch the datasets"
   ]
  },
  {
   "cell_type": "code",
   "execution_count": 3,
   "id": "caae5b7e",
   "metadata": {
    "scrolled": false
   },
   "outputs": [
    {
     "name": "stdout",
     "output_type": "stream",
     "text": [
      "Found 2392 files belonging to 2 classes.\n",
      "Using 1914 files for training.\n",
      "Using 478 files for validation.\n",
      "Found 597 files belonging to 2 classes.\n",
      "The class names are: ['flip', 'notflip']\n"
     ]
    }
   ],
   "source": [
    "BATCH_SIZE = 32\n",
    "IMG_SIZE = (224, 224)\n",
    "\n",
    "# It is assumed that the training and testing directories contain the same distribution of data. \n",
    "# Hence the validation dataset is sampled from the training set.\n",
    "train_dataset, validation_dataset = image_dataset_from_directory(directory+\"/images/training/\",\n",
    "                                                                 shuffle=True,\n",
    "                                                                 validation_split = 0.2,\n",
    "                                                                 subset = 'both',\n",
    "                                                                 batch_size=BATCH_SIZE,\n",
    "                                                                 image_size=IMG_SIZE,\n",
    "                                                                 seed=42)\n",
    "\n",
    "test_dataset = image_dataset_from_directory(directory+\"/images/testing/\",\n",
    "                                            shuffle=False,\n",
    "                                            batch_size=597,\n",
    "                                            image_size=IMG_SIZE,\n",
    "                                            seed=42)\n",
    "\n",
    "class_names = train_dataset.class_names\n",
    "AUTOTUNE = tf.data.experimental.AUTOTUNE\n",
    "train_dataset = train_dataset.prefetch(buffer_size=AUTOTUNE)\n",
    "\n",
    "print(f'The class names are: {class_names}')"
   ]
  },
  {
   "cell_type": "markdown",
   "id": "ea7004aa",
   "metadata": {},
   "source": [
    "Define the preprocessing function"
   ]
  },
  {
   "cell_type": "code",
   "execution_count": 4,
   "id": "f1f4e4ee",
   "metadata": {},
   "outputs": [],
   "source": [
    "tf.random.set_seed(42)\n",
    "\n",
    "preprocess_input = tfl.Rescaling(scale=1/255, offset=0.0, name='preprocess')"
   ]
  },
  {
   "cell_type": "markdown",
   "id": "0f705186",
   "metadata": {},
   "source": [
    "Define the BottleneckBlock object, as described in MobileNetV2"
   ]
  },
  {
   "cell_type": "code",
   "execution_count": 5,
   "id": "1e543345",
   "metadata": {},
   "outputs": [],
   "source": [
    "class BottleneckBlock(tf.keras.layers.Layer):\n",
    "    \"\"\"\n",
    "    Bottleneck block from MobileNetV2\n",
    "    \n",
    "    Constructor arguments:\n",
    "    f -- integer, shape of the convolutional window\n",
    "    nb_depth -- number of filters to expand to for the depthwise convolution\n",
    "    nb_project -- number of filters for the projection\n",
    "    \n",
    "    \"\"\"\n",
    "    def __init__(self, f, nb_depth, nb_proj, **kwargs):\n",
    "        super(BottleneckBlock, self).__init__(**kwargs)\n",
    "        self.expconv = tfl.Conv2D(filters = nb_depth, \n",
    "                                  kernel_size = (1,1), \n",
    "                                  strides = (1,1), \n",
    "                                  padding = 'same', \n",
    "                                  kernel_initializer = glorot_uniform(seed=42),\n",
    "                                  name = 'expconv'\n",
    "                                  )\n",
    "        self.expbatch = tfl.BatchNormalization(axis = 3, name = 'expbatch')\n",
    "        self.depthconv = tfl.DepthwiseConv2D(kernel_size = (f,f), \n",
    "                                             strides = (1,1), \n",
    "                                             padding = 'same', \n",
    "                                             kernel_initializer = glorot_uniform(seed=42),\n",
    "                                             name = 'depthconv'\n",
    "                                             )\n",
    "        self.depthbatch = tfl.BatchNormalization(axis = 3, name = 'depthbatch')\n",
    "        self.projconv = tfl.Conv2D(filters = nb_proj, \n",
    "                                   kernel_size = (1,1), \n",
    "                                   strides = (1,1), \n",
    "                                   padding = 'same', \n",
    "                                   kernel_initializer = glorot_uniform(seed=42),\n",
    "                                   name = 'projconv'\n",
    "                                   )\n",
    "        self.projbatch = tfl.BatchNormalization(axis = 3, name = 'projbatch')\n",
    "        self.shortbatch = tfl.BatchNormalization(axis = 3, name = 'shortbatch')\n",
    "        self.nb_depth = nb_depth\n",
    "        self.nb_proj = nb_proj\n",
    "        self.f = f\n",
    "    \n",
    "    def call(self, X):\n",
    "        X_shortcut = X # Saved for the shortcut connection\n",
    "    \n",
    "        # Expansion Part\n",
    "        X = self.expconv(X)\n",
    "        X = self.expbatch(X)\n",
    "        X = tfl.Activation('relu')(X)\n",
    "        \n",
    "        # Depthwise Convolution Part\n",
    "        X = self.depthconv(X)\n",
    "        X = self.depthbatch(X)\n",
    "        X = tfl.Activation('relu')(X)\n",
    "        \n",
    "        # Projection Part\n",
    "        X = self.projconv(X)\n",
    "        X = self.projbatch(X)\n",
    "        \n",
    "        # Shortcut Connection\n",
    "        if self.nb_proj == X_shortcut.shape[3]:\n",
    "            X_shortcut = self.shortbatch(X_shortcut)\n",
    "            X = tfl.add([X, X_shortcut])\n",
    "        X = tfl.Activation('relu')(X)\n",
    "    \n",
    "        return X\n",
    "    \n",
    "    def get_config(self):\n",
    "        config = super(BottleneckBlock, self).get_config()\n",
    "        config.update({\"f\": self.f, \"nb_depth\": self.nb_depth, \"nb_proj\": self.nb_proj})\n",
    "        return config"
   ]
  },
  {
   "cell_type": "markdown",
   "id": "a4447754",
   "metadata": {},
   "source": [
    "Define the custom model"
   ]
  },
  {
   "cell_type": "code",
   "execution_count": 6,
   "id": "6938efbd",
   "metadata": {},
   "outputs": [],
   "source": [
    "def flip_model(input_shape=(224,224), f=3, data_augmentation=tf.identity):\n",
    "    \"\"\"\n",
    "    A custom architecture for the binary classification of flip/notflip images\n",
    "\n",
    "    Arguments:\n",
    "    input_shape -- shape of the images of the dataset\n",
    "    f -- integer, shape of the convolutional window\n",
    "    \n",
    "    \"\"\"\n",
    "\n",
    "    X_input = tf.keras.Input(shape=input_shape, name = 'input')\n",
    "    \n",
    "    X = data_augmentation(X_input)\n",
    "    \n",
    "    X = preprocess_input(X)\n",
    "    \n",
    "    X = tfl.Conv2D(6, \n",
    "                   (3, 3), \n",
    "                   strides = (2, 2), \n",
    "                   padding = 'same', \n",
    "                   kernel_initializer = glorot_uniform(seed=42),\n",
    "                   name = 'Conv2D_1'\n",
    "                   )(X)\n",
    "    X = tfl.BatchNormalization(axis = 3, name = 'BatchNorm_1')(X)\n",
    "    X = tfl.Activation('relu', name = 'ReLU_1')(X)\n",
    "    X = tfl.MaxPooling2D(pool_size = (2, 2), \n",
    "                         strides = (2, 2),\n",
    "                         name = 'MaxPool2D_1'\n",
    "                         )(X)\n",
    "    X = tfl.Dropout(0.01, \n",
    "                    seed = 42,\n",
    "                    name = 'Dropout_1'\n",
    "                    )(X)\n",
    "    \n",
    "    Block1 = BottleneckBlock(f, \n",
    "                             24, \n",
    "                             6, \n",
    "                             name='Bottleneck_1'\n",
    "                             )\n",
    "    X = Block1(X)\n",
    "    X = tfl.MaxPooling2D(pool_size = (2, 2),\n",
    "                         name = 'MaxPool2D_2')(X)\n",
    "    X = tfl.Dropout(0.01, \n",
    "                    seed=42,\n",
    "                    name = 'Dropout_2'\n",
    "                    )(X)\n",
    "    \n",
    "    Block2 = BottleneckBlock(f, \n",
    "                             48, \n",
    "                             6, \n",
    "                             name='Bottleneck_2'\n",
    "                             )\n",
    "    X = Block2(X)\n",
    "    X = tfl.MaxPooling2D(pool_size = (2, 2),\n",
    "                         name = 'MaxPool2D_3')(X)\n",
    "    X = tfl.Dropout(0.1, \n",
    "                    seed = 42,\n",
    "                    name = 'Dropout_3'\n",
    "                    )(X)\n",
    "    \n",
    "    X = tfl.Flatten(name = 'Flatten')(X)\n",
    "    X_output = tfl.Dense(units = 1, \n",
    "                         activation = 'sigmoid', \n",
    "                         kernel_initializer = glorot_uniform(seed=42),\n",
    "                         name = 'Dense'\n",
    "                         )(X)\n",
    "    \n",
    "    model = tf.keras.Model(inputs = X_input, outputs = X_output, name = 'flip_model')\n",
    "    \n",
    "    return model"
   ]
  },
  {
   "cell_type": "code",
   "execution_count": 7,
   "id": "370da40b",
   "metadata": {},
   "outputs": [
    {
     "name": "stdout",
     "output_type": "stream",
     "text": [
      "A summary of the model follows:\n",
      "\n",
      "Model: \"flip_model\"\n",
      "_________________________________________________________________\n",
      " Layer (type)                Output Shape              Param #   \n",
      "=================================================================\n",
      " input (InputLayer)          [(None, 224, 224, 3)]     0         \n",
      "                                                                 \n",
      " tf.identity (TFOpLambda)    (None, 224, 224, 3)       0         \n",
      "                                                                 \n",
      " preprocess (Rescaling)      (None, 224, 224, 3)       0         \n",
      "                                                                 \n",
      " Conv2D_1 (Conv2D)           (None, 112, 112, 6)       168       \n",
      "                                                                 \n",
      " BatchNorm_1 (BatchNormaliza  (None, 112, 112, 6)      24        \n",
      " tion)                                                           \n",
      "                                                                 \n",
      " ReLU_1 (Activation)         (None, 112, 112, 6)       0         \n",
      "                                                                 \n",
      " MaxPool2D_1 (MaxPooling2D)  (None, 56, 56, 6)         0         \n",
      "                                                                 \n",
      " Dropout_1 (Dropout)         (None, 56, 56, 6)         0         \n",
      "                                                                 \n",
      " Bottleneck_1 (BottleneckBlo  (None, 56, 56, 6)        798       \n",
      " ck)                                                             \n",
      "                                                                 \n",
      " MaxPool2D_2 (MaxPooling2D)  (None, 28, 28, 6)         0         \n",
      "                                                                 \n",
      " Dropout_2 (Dropout)         (None, 28, 28, 6)         0         \n",
      "                                                                 \n",
      " Bottleneck_2 (BottleneckBlo  (None, 28, 28, 6)        1542      \n",
      " ck)                                                             \n",
      "                                                                 \n",
      " MaxPool2D_3 (MaxPooling2D)  (None, 14, 14, 6)         0         \n",
      "                                                                 \n",
      " Dropout_3 (Dropout)         (None, 14, 14, 6)         0         \n",
      "                                                                 \n",
      " Flatten (Flatten)           (None, 1176)              0         \n",
      "                                                                 \n",
      " Dense (Dense)               (None, 1)                 1177      \n",
      "                                                                 \n",
      "=================================================================\n",
      "Total params: 3,709\n",
      "Trainable params: 3,361\n",
      "Non-trainable params: 348\n",
      "_________________________________________________________________\n"
     ]
    }
   ],
   "source": [
    "# IMG_SIZE = (224, 224)\n",
    "IMG_SHAPE = IMG_SIZE + (3,)\n",
    "f = 3 # kernel size\n",
    "\n",
    "# Creating the model instance\n",
    "augment_data = tf.identity # No data augmentation is needed for this task\n",
    "custom_model = flip_model(input_shape=IMG_SHAPE, f=f, data_augmentation=augment_data)\n",
    "custom_model.trainable = True\n",
    "print('A summary of the model follows:\\n')\n",
    "summary = custom_model.summary()"
   ]
  },
  {
   "cell_type": "markdown",
   "id": "41e5d083",
   "metadata": {},
   "source": [
    "Compiling the model"
   ]
  },
  {
   "cell_type": "code",
   "execution_count": 8,
   "id": "c76ae8ad",
   "metadata": {},
   "outputs": [],
   "source": [
    "loss_function = tf.keras.losses.BinaryCrossentropy(from_logits=False)\n",
    "\n",
    "lr_schedule = tf.keras.optimizers.schedules.ExponentialDecay(initial_learning_rate = 0.0005, \n",
    "                                                             decay_steps = len(train_dataset), \n",
    "                                                             decay_rate = 0.96, \n",
    "                                                             staircase = True\n",
    "                                                             )\n",
    "\n",
    "optimizer = tf.keras.optimizers.Adam(learning_rate = lr_schedule)\n",
    "\n",
    "metrics = ['accuracy', f1_score]\n",
    " \n",
    "custom_model.compile(loss = loss_function,\n",
    "                     optimizer = optimizer,\n",
    "                     metrics = metrics\n",
    "                     )"
   ]
  },
  {
   "cell_type": "raw",
   "id": "04db2c4d",
   "metadata": {},
   "source": [
    "Training the model"
   ]
  },
  {
   "cell_type": "code",
   "execution_count": 9,
   "id": "3e666e68",
   "metadata": {},
   "outputs": [
    {
     "name": "stdout",
     "output_type": "stream",
     "text": [
      "Epoch 1/100\n",
      "60/60 [==============================] - 19s 230ms/step - loss: 0.6596 - accuracy: 0.6411 - f1_score: 0.6388 - val_loss: 0.6966 - val_accuracy: 0.4749 - val_f1_score: 0.0000e+00\n",
      "Epoch 2/100\n",
      "60/60 [==============================] - 14s 228ms/step - loss: 0.4201 - accuracy: 0.7994 - f1_score: 0.7981 - val_loss: 0.7207 - val_accuracy: 0.4749 - val_f1_score: 0.0000e+00\n",
      "Epoch 3/100\n",
      "60/60 [==============================] - 18s 283ms/step - loss: 0.2985 - accuracy: 0.8809 - f1_score: 0.8818 - val_loss: 0.7570 - val_accuracy: 0.4749 - val_f1_score: 0.0000e+00\n",
      "Epoch 4/100\n",
      "60/60 [==============================] - 24s 385ms/step - loss: 0.2419 - accuracy: 0.9086 - f1_score: 0.9075 - val_loss: 0.7106 - val_accuracy: 0.4770 - val_f1_score: 0.0089\n",
      "Epoch 5/100\n",
      "60/60 [==============================] - 25s 397ms/step - loss: 0.1970 - accuracy: 0.9300 - f1_score: 0.9312 - val_loss: 0.6062 - val_accuracy: 0.5941 - val_f1_score: 0.4064\n",
      "Epoch 6/100\n",
      "60/60 [==============================] - 25s 404ms/step - loss: 0.1651 - accuracy: 0.9425 - f1_score: 0.9430 - val_loss: 0.4038 - val_accuracy: 0.9100 - val_f1_score: 0.9116\n",
      "Epoch 7/100\n",
      "60/60 [==============================] - 22s 341ms/step - loss: 0.1454 - accuracy: 0.9493 - f1_score: 0.9495 - val_loss: 0.2800 - val_accuracy: 0.9289 - val_f1_score: 0.9345\n",
      "Epoch 8/100\n",
      "60/60 [==============================] - 20s 327ms/step - loss: 0.1233 - accuracy: 0.9598 - f1_score: 0.9599 - val_loss: 0.1839 - val_accuracy: 0.9623 - val_f1_score: 0.9661\n",
      "Epoch 9/100\n",
      "60/60 [==============================] - 19s 306ms/step - loss: 0.1151 - accuracy: 0.9702 - f1_score: 0.9707 - val_loss: 0.1365 - val_accuracy: 0.9686 - val_f1_score: 0.9702\n",
      "Epoch 10/100\n",
      "60/60 [==============================] - 16s 256ms/step - loss: 0.1058 - accuracy: 0.9692 - f1_score: 0.9688 - val_loss: 0.0996 - val_accuracy: 0.9728 - val_f1_score: 0.9745\n",
      "Epoch 11/100\n",
      "60/60 [==============================] - 16s 258ms/step - loss: 0.0865 - accuracy: 0.9723 - f1_score: 0.9714 - val_loss: 0.1086 - val_accuracy: 0.9665 - val_f1_score: 0.9674\n",
      "Epoch 12/100\n",
      "60/60 [==============================] - 18s 283ms/step - loss: 0.0864 - accuracy: 0.9760 - f1_score: 0.9761 - val_loss: 0.0886 - val_accuracy: 0.9686 - val_f1_score: 0.9699\n",
      "Epoch 13/100\n",
      "60/60 [==============================] - 16s 264ms/step - loss: 0.0711 - accuracy: 0.9822 - f1_score: 0.9822 - val_loss: 0.0810 - val_accuracy: 0.9749 - val_f1_score: 0.9749\n",
      "Epoch 14/100\n",
      "60/60 [==============================] - 17s 278ms/step - loss: 0.0720 - accuracy: 0.9796 - f1_score: 0.9786 - val_loss: 0.0819 - val_accuracy: 0.9728 - val_f1_score: 0.9729\n",
      "Epoch 15/100\n",
      "60/60 [==============================] - 18s 280ms/step - loss: 0.0603 - accuracy: 0.9854 - f1_score: 0.9857 - val_loss: 0.0975 - val_accuracy: 0.9623 - val_f1_score: 0.9638\n",
      "Epoch 16/100\n",
      "60/60 [==============================] - 17s 267ms/step - loss: 0.0603 - accuracy: 0.9848 - f1_score: 0.9857 - val_loss: 0.0585 - val_accuracy: 0.9833 - val_f1_score: 0.9847\n",
      "Epoch 17/100\n",
      "60/60 [==============================] - 17s 273ms/step - loss: 0.0555 - accuracy: 0.9869 - f1_score: 0.9864 - val_loss: 0.0666 - val_accuracy: 0.9770 - val_f1_score: 0.9776\n",
      "Epoch 18/100\n",
      "60/60 [==============================] - 18s 295ms/step - loss: 0.0541 - accuracy: 0.9869 - f1_score: 0.9874 - val_loss: 0.0538 - val_accuracy: 0.9854 - val_f1_score: 0.9860\n",
      "Epoch 19/100\n",
      "60/60 [==============================] - 24s 396ms/step - loss: 0.0561 - accuracy: 0.9838 - f1_score: 0.9838 - val_loss: 0.0652 - val_accuracy: 0.9791 - val_f1_score: 0.9788\n",
      "Epoch 20/100\n",
      "60/60 [==============================] - 20s 320ms/step - loss: 0.0515 - accuracy: 0.9875 - f1_score: 0.9873 - val_loss: 0.0499 - val_accuracy: 0.9874 - val_f1_score: 0.9874\n",
      "Epoch 21/100\n",
      "60/60 [==============================] - 18s 292ms/step - loss: 0.0455 - accuracy: 0.9864 - f1_score: 0.9863 - val_loss: 0.0527 - val_accuracy: 0.9854 - val_f1_score: 0.9847\n",
      "Epoch 22/100\n",
      "60/60 [==============================] - 19s 301ms/step - loss: 0.0458 - accuracy: 0.9890 - f1_score: 0.9890 - val_loss: 0.0498 - val_accuracy: 0.9874 - val_f1_score: 0.9886\n",
      "Epoch 23/100\n",
      "60/60 [==============================] - 18s 294ms/step - loss: 0.0402 - accuracy: 0.9916 - f1_score: 0.9915 - val_loss: 0.0508 - val_accuracy: 0.9833 - val_f1_score: 0.9838\n",
      "Epoch 24/100\n",
      "60/60 [==============================] - 19s 299ms/step - loss: 0.0381 - accuracy: 0.9932 - f1_score: 0.9935 - val_loss: 0.0438 - val_accuracy: 0.9895 - val_f1_score: 0.9903\n",
      "Epoch 25/100\n",
      "60/60 [==============================] - 19s 297ms/step - loss: 0.0395 - accuracy: 0.9932 - f1_score: 0.9934 - val_loss: 0.0426 - val_accuracy: 0.9916 - val_f1_score: 0.9923\n",
      "Epoch 26/100\n",
      "60/60 [==============================] - 19s 309ms/step - loss: 0.0374 - accuracy: 0.9932 - f1_score: 0.9932 - val_loss: 0.0369 - val_accuracy: 0.9916 - val_f1_score: 0.9923\n",
      "Epoch 27/100\n",
      "60/60 [==============================] - 18s 295ms/step - loss: 0.0352 - accuracy: 0.9906 - f1_score: 0.9909 - val_loss: 0.0380 - val_accuracy: 0.9916 - val_f1_score: 0.9923\n",
      "Epoch 28/100\n",
      "60/60 [==============================] - 19s 297ms/step - loss: 0.0324 - accuracy: 0.9922 - f1_score: 0.9924 - val_loss: 0.0370 - val_accuracy: 0.9895 - val_f1_score: 0.9909\n",
      "Epoch 29/100\n",
      "60/60 [==============================] - 18s 296ms/step - loss: 0.0344 - accuracy: 0.9922 - f1_score: 0.9916 - val_loss: 0.0341 - val_accuracy: 0.9916 - val_f1_score: 0.9923\n",
      "Epoch 30/100\n",
      "60/60 [==============================] - 19s 301ms/step - loss: 0.0284 - accuracy: 0.9958 - f1_score: 0.9958 - val_loss: 0.0352 - val_accuracy: 0.9916 - val_f1_score: 0.9923\n",
      "Epoch 31/100\n",
      "60/60 [==============================] - 18s 294ms/step - loss: 0.0301 - accuracy: 0.9937 - f1_score: 0.9937 - val_loss: 0.0352 - val_accuracy: 0.9916 - val_f1_score: 0.9923\n",
      "Epoch 32/100\n",
      "60/60 [==============================] - 21s 336ms/step - loss: 0.0284 - accuracy: 0.9943 - f1_score: 0.9947 - val_loss: 0.0377 - val_accuracy: 0.9916 - val_f1_score: 0.9923\n",
      "Epoch 33/100\n",
      "60/60 [==============================] - 19s 303ms/step - loss: 0.0267 - accuracy: 0.9953 - f1_score: 0.9948 - val_loss: 0.0333 - val_accuracy: 0.9937 - val_f1_score: 0.9937\n",
      "Epoch 34/100\n",
      "60/60 [==============================] - 19s 301ms/step - loss: 0.0287 - accuracy: 0.9937 - f1_score: 0.9934 - val_loss: 0.0328 - val_accuracy: 0.9916 - val_f1_score: 0.9923\n",
      "Epoch 35/100\n",
      "60/60 [==============================] - 19s 297ms/step - loss: 0.0310 - accuracy: 0.9927 - f1_score: 0.9931 - val_loss: 0.0320 - val_accuracy: 0.9895 - val_f1_score: 0.9894\n",
      "Epoch 36/100\n",
      "60/60 [==============================] - 19s 311ms/step - loss: 0.0280 - accuracy: 0.9927 - f1_score: 0.9925 - val_loss: 0.0283 - val_accuracy: 0.9916 - val_f1_score: 0.9923\n",
      "Epoch 37/100\n",
      "60/60 [==============================] - 19s 300ms/step - loss: 0.0231 - accuracy: 0.9958 - f1_score: 0.9961 - val_loss: 0.0300 - val_accuracy: 0.9937 - val_f1_score: 0.9937\n",
      "Epoch 38/100\n",
      "60/60 [==============================] - 19s 299ms/step - loss: 0.0231 - accuracy: 0.9963 - f1_score: 0.9961 - val_loss: 0.0301 - val_accuracy: 0.9937 - val_f1_score: 0.9937\n",
      "Epoch 39/100\n",
      "60/60 [==============================] - 19s 296ms/step - loss: 0.0266 - accuracy: 0.9937 - f1_score: 0.9932 - val_loss: 0.0276 - val_accuracy: 0.9937 - val_f1_score: 0.9937\n",
      "Epoch 40/100\n",
      "60/60 [==============================] - 19s 297ms/step - loss: 0.0259 - accuracy: 0.9943 - f1_score: 0.9937 - val_loss: 0.0280 - val_accuracy: 0.9916 - val_f1_score: 0.9923\n",
      "Epoch 41/100\n",
      "60/60 [==============================] - 19s 299ms/step - loss: 0.0265 - accuracy: 0.9953 - f1_score: 0.9955 - val_loss: 0.0251 - val_accuracy: 0.9916 - val_f1_score: 0.9923\n",
      "Epoch 42/100\n",
      "60/60 [==============================] - 19s 297ms/step - loss: 0.0214 - accuracy: 0.9953 - f1_score: 0.9950 - val_loss: 0.0263 - val_accuracy: 0.9916 - val_f1_score: 0.9923\n",
      "Epoch 43/100\n",
      "60/60 [==============================] - 19s 302ms/step - loss: 0.0222 - accuracy: 0.9958 - f1_score: 0.9960 - val_loss: 0.0256 - val_accuracy: 0.9916 - val_f1_score: 0.9923\n",
      "Epoch 44/100\n",
      "60/60 [==============================] - 19s 297ms/step - loss: 0.0230 - accuracy: 0.9953 - f1_score: 0.9955 - val_loss: 0.0259 - val_accuracy: 0.9916 - val_f1_score: 0.9923\n"
     ]
    },
    {
     "name": "stdout",
     "output_type": "stream",
     "text": [
      "Epoch 45/100\n",
      "60/60 [==============================] - 19s 305ms/step - loss: 0.0212 - accuracy: 0.9974 - f1_score: 0.9975 - val_loss: 0.0240 - val_accuracy: 0.9937 - val_f1_score: 0.9937\n",
      "Epoch 46/100\n",
      "60/60 [==============================] - 19s 301ms/step - loss: 0.0204 - accuracy: 0.9969 - f1_score: 0.9964 - val_loss: 0.0246 - val_accuracy: 0.9916 - val_f1_score: 0.9923\n",
      "Epoch 47/100\n",
      "60/60 [==============================] - 19s 296ms/step - loss: 0.0252 - accuracy: 0.9943 - f1_score: 0.9943 - val_loss: 0.0273 - val_accuracy: 0.9916 - val_f1_score: 0.9923\n",
      "Epoch 48/100\n",
      "60/60 [==============================] - 19s 301ms/step - loss: 0.0210 - accuracy: 0.9969 - f1_score: 0.9964 - val_loss: 0.0278 - val_accuracy: 0.9916 - val_f1_score: 0.9923\n",
      "Epoch 49/100\n",
      "60/60 [==============================] - 25s 399ms/step - loss: 0.0243 - accuracy: 0.9953 - f1_score: 0.9944 - val_loss: 0.0228 - val_accuracy: 0.9916 - val_f1_score: 0.9923\n",
      "Epoch 50/100\n",
      "60/60 [==============================] - 26s 414ms/step - loss: 0.0194 - accuracy: 0.9990 - f1_score: 0.9991 - val_loss: 0.0229 - val_accuracy: 0.9937 - val_f1_score: 0.9937\n",
      "Epoch 51/100\n",
      "60/60 [==============================] - 25s 405ms/step - loss: 0.0183 - accuracy: 0.9979 - f1_score: 0.9980 - val_loss: 0.0230 - val_accuracy: 0.9937 - val_f1_score: 0.9937\n",
      "Epoch 52/100\n",
      "60/60 [==============================] - 25s 396ms/step - loss: 0.0174 - accuracy: 0.9979 - f1_score: 0.9975 - val_loss: 0.0222 - val_accuracy: 0.9937 - val_f1_score: 0.9937\n",
      "Epoch 53/100\n",
      "60/60 [==============================] - 25s 404ms/step - loss: 0.0199 - accuracy: 0.9958 - f1_score: 0.9952 - val_loss: 0.0233 - val_accuracy: 0.9916 - val_f1_score: 0.9923\n",
      "Epoch 54/100\n",
      "60/60 [==============================] - 25s 407ms/step - loss: 0.0195 - accuracy: 0.9958 - f1_score: 0.9949 - val_loss: 0.0212 - val_accuracy: 0.9937 - val_f1_score: 0.9937\n",
      "Epoch 55/100\n",
      "60/60 [==============================] - 25s 406ms/step - loss: 0.0174 - accuracy: 0.9984 - f1_score: 0.9982 - val_loss: 0.0226 - val_accuracy: 0.9937 - val_f1_score: 0.9937\n",
      "Epoch 56/100\n",
      "60/60 [==============================] - 26s 412ms/step - loss: 0.0182 - accuracy: 0.9969 - f1_score: 0.9967 - val_loss: 0.0216 - val_accuracy: 0.9937 - val_f1_score: 0.9937\n",
      "Epoch 57/100\n",
      "60/60 [==============================] - 21s 325ms/step - loss: 0.0164 - accuracy: 0.9969 - f1_score: 0.9967 - val_loss: 0.0219 - val_accuracy: 0.9937 - val_f1_score: 0.9937\n",
      "Epoch 58/100\n",
      "60/60 [==============================] - 19s 297ms/step - loss: 0.0180 - accuracy: 0.9969 - f1_score: 0.9969 - val_loss: 0.0218 - val_accuracy: 0.9937 - val_f1_score: 0.9937\n",
      "Epoch 59/100\n",
      "60/60 [==============================] - 18s 295ms/step - loss: 0.0208 - accuracy: 0.9958 - f1_score: 0.9955 - val_loss: 0.0243 - val_accuracy: 0.9916 - val_f1_score: 0.9923\n",
      "Epoch 60/100\n",
      "60/60 [==============================] - 18s 292ms/step - loss: 0.0161 - accuracy: 0.9990 - f1_score: 0.9990 - val_loss: 0.0218 - val_accuracy: 0.9916 - val_f1_score: 0.9923\n",
      "Epoch 61/100\n",
      "60/60 [==============================] - 18s 295ms/step - loss: 0.0178 - accuracy: 0.9969 - f1_score: 0.9969 - val_loss: 0.0209 - val_accuracy: 0.9916 - val_f1_score: 0.9923\n",
      "Epoch 62/100\n",
      "60/60 [==============================] - 19s 299ms/step - loss: 0.0200 - accuracy: 0.9953 - f1_score: 0.9952 - val_loss: 0.0217 - val_accuracy: 0.9916 - val_f1_score: 0.9923\n",
      "Epoch 63/100\n",
      "60/60 [==============================] - 19s 300ms/step - loss: 0.0162 - accuracy: 0.9979 - f1_score: 0.9979 - val_loss: 0.0203 - val_accuracy: 0.9916 - val_f1_score: 0.9923\n"
     ]
    }
   ],
   "source": [
    "loss_callback = tf.keras.callbacks.EarlyStopping(monitor = 'val_loss',\n",
    "                                                 min_delta = 0.0002,\n",
    "                                                 patience = 10\n",
    "                                                 )\n",
    "\n",
    "acc_callback = tf.keras.callbacks.EarlyStopping(monitor ='val_accuracy', \n",
    "                                                min_delta = 0.001, \n",
    "                                                patience = 30\n",
    "                                                )\n",
    "\n",
    "checkpoints = tf.keras.callbacks.ModelCheckpoint('./checkpoints/custom_model',\n",
    "                                                monitor = 'val_loss',\n",
    "                                                save_best_only = True, \n",
    "                                                save_weights_only = True,\n",
    "                                                save_freq = 'epoch'\n",
    "                                                )\n",
    "\n",
    "history = custom_model.fit(train_dataset,\n",
    "                           epochs = 100,\n",
    "                           validation_data = validation_dataset,\n",
    "                           callbacks = [loss_callback, acc_callback, checkpoints]\n",
    "                           )"
   ]
  },
  {
   "cell_type": "markdown",
   "id": "d4bc4b3a",
   "metadata": {},
   "source": [
    "Saving the model and its weights"
   ]
  },
  {
   "cell_type": "code",
   "execution_count": 10,
   "id": "5097630b",
   "metadata": {},
   "outputs": [],
   "source": [
    "custom_model.load_weights('./checkpoints/custom_model') # weights from best epoch\n",
    "custom_objects = {\"BottleneckBlock\": BottleneckBlock, \"f1_score\": f1_score}\n",
    "custom_model.save('./checkpoints/custom_model.h5')"
   ]
  },
  {
   "cell_type": "markdown",
   "id": "db736449",
   "metadata": {},
   "source": [
    "Plotting the loss and accuracy history"
   ]
  },
  {
   "cell_type": "code",
   "execution_count": 11,
   "id": "93e34eda",
   "metadata": {},
   "outputs": [
    {
     "data": {
      "image/png": "[encoded data removed]",
      "text/plain": [
       "<Figure size 640x480 with 2 Axes>"
      ]
     },
     "metadata": {},
     "output_type": "display_data"
    }
   ],
   "source": [
    "loss = history.history['loss']\n",
    "val_loss = history.history['val_loss']\n",
    "f1 = history.history['f1_score']\n",
    "val_f1 = history.history['val_f1_score']\n",
    "\n",
    "plt.figure()\n",
    "plt.subplot(2,1,1)\n",
    "plt.plot(loss, label = 'Training loss')\n",
    "plt.plot(val_loss, label = 'Validation loss')\n",
    "plt.legend(loc = 'upper right')\n",
    "plt.title('Training and Validation loss')\n",
    "plt.subplot(2,1,2)\n",
    "plt.plot(f1, label = 'Training f1_score')\n",
    "plt.plot(val_f1, label = 'Validation f1_score')\n",
    "plt.ylim([0, 1])\n",
    "plt.legend(loc = 'lower right')\n",
    "plt.title('Training and Validation f1_score')\n",
    "plt.show()"
   ]
  },
  {
   "cell_type": "markdown",
   "id": "32e76bc1",
   "metadata": {},
   "source": [
    "Evaluate on the test set"
   ]
  },
  {
   "cell_type": "code",
   "execution_count": 12,
   "id": "5c3d0ced",
   "metadata": {},
   "outputs": [
    {
     "name": "stdout",
     "output_type": "stream",
     "text": [
      "\n",
      "Evaluating the model on the test set\n",
      "\n",
      "1/1 [==============================] - 2s 2s/step - loss: 0.0386 - accuracy: 0.9916 - f1_score: 0.9919\n",
      "1/1 [==============================] - 3s 3s/step\n"
     ]
    }
   ],
   "source": [
    "print('\\nEvaluating the model on the test set\\n')\n",
    "custom_model.evaluate(test_dataset)\n",
    "test_predictions = custom_model.predict(test_dataset)"
   ]
  },
  {
   "cell_type": "markdown",
   "id": "c59b99ec",
   "metadata": {},
   "source": [
    "Verifying that the saved custom model can be loaded"
   ]
  },
  {
   "cell_type": "code",
   "execution_count": 13,
   "id": "fc576f1f",
   "metadata": {},
   "outputs": [
    {
     "name": "stdout",
     "output_type": "stream",
     "text": [
      "\n",
      "Evaluating the model on the test set\n",
      "\n",
      "1/1 [==============================] - 3s 3s/step - loss: 0.0386 - accuracy: 0.9916 - f1_score: 0.9919\n",
      "1/1 [==============================] - 3s 3s/step\n"
     ]
    }
   ],
   "source": [
    "loaded_model = tf.keras.models.load_model('./checkpoints/custom_model.h5', custom_objects=custom_objects)\n",
    "\n",
    "print('\\nEvaluating the model on the test set\\n')\n",
    "loaded_model.evaluate(test_dataset)\n",
    "test_predictions = loaded_model.predict(test_dataset)"
   ]
  }
 ],
 "metadata": {
  "kernelspec": {
   "display_name": "Python 3 (ipykernel)",
   "language": "python",
   "name": "python3"
  },
  "language_info": {
   "codemirror_mode": {
    "name": "ipython",
    "version": 3
   },
   "file_extension": ".py",
   "mimetype": "text/x-python",
   "name": "python",
   "nbconvert_exporter": "python",
   "pygments_lexer": "ipython3",
   "version": "3.10.9"
  }
 },
 "nbformat": 4,
 "nbformat_minor": 5
}
